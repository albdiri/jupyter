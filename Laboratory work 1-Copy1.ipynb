{
 "cells": [
  {
   "cell_type": "markdown",
   "id": "bac333ff",
   "metadata": {},
   "source": [
    "Laboratory work 1 ф.и.о Адь-бдири мухаммад хади\n",
    "група рим -111060\n"
   ]
  },
  {
   "cell_type": "markdown",
   "id": "eb4a9d86",
   "metadata": {},
   "source": [
    "1.Сначала устанавливаем в программу необходимые библиотеки."
   ]
  },
  {
   "cell_type": "code",
   "execution_count": null,
   "id": "e13fb479",
   "metadata": {},
   "outputs": [],
   "source": [
    "import numpy\n",
    "import numpy as np\n",
    "import numpy.random as rand\n",
    "import matplotlib.pyplot as plt\n",
    "from matplotlib import pyplot\n",
    "\n",
    "from pandas.plotting import autocorrelation_plot\n",
    "from statsmodels.graphics.tsaplots import plot_acf\n",
    "\n",
    "import h5py\n",
    "from scipy.stats import skew,kurtosis\n",
    "\n",
    "%matplotlib inline"
   ]
  },
  {
   "cell_type": "markdown",
   "id": "0fe6ccb8",
   "metadata": {},
   "source": [
    "2.Создать ВР являющийся выборкой  случайной  величины  с нормальным распределением "
   ]
  },
  {
   "cell_type": "code",
   "execution_count": 2,
   "id": "6e4036f6",
   "metadata": {},
   "outputs": [],
   "source": [
    "X = rand.randn(10000)"
   ]
  },
  {
   "cell_type": "markdown",
   "id": "986c3d62",
   "metadata": {},
   "source": [
    "3.Создать  для  него  ряд  временных  отсчетов,  на  которых  он  будет определен: \n",
    "t = np.linspace(3, 5, num = 10000)"
   ]
  },
  {
   "cell_type": "code",
   "execution_count": 3,
   "id": "26a6a0a9",
   "metadata": {},
   "outputs": [],
   "source": [
    "t = np.linspace(3, 5, num = 10000)"
   ]
  },
  {
   "cell_type": "markdown",
   "id": "9d3a526a",
   "metadata": {},
   "source": [
    " 4.Построить ВР на заданной временной сетке с помощью функцийplt.\n",
    " plt.plot(t, X)"
   ]
  },
  {
   "cell_type": "code",
   "execution_count": 4,
   "id": "2ec0fa11",
   "metadata": {},
   "outputs": [
    {
     "data": {
      "image/png": "[encoded data removed]",
      "text/plain": [
       "<Figure size 720x360 with 1 Axes>"
      ]
     },
     "metadata": {
      "needs_background": "light"
     },
     "output_type": "display_data"
    }
   ],
   "source": [
    "plt.figure(figsize=(10, 5))  # size of the drawn area\n",
    "plt.plot(t, X)\n",
    "plt.show()"
   ]
  },
  {
   "cell_type": "markdown",
   "id": "f1c85996",
   "metadata": {},
   "source": [
    "6.Найти мат. ожидание данного ВР двумя способами:Во-первых, спомощью функции\n",
    "M = np.mean(X)"
   ]
  },
  {
   "cell_type": "code",
   "execution_count": 6,
   "id": "0b7d8d01",
   "metadata": {},
   "outputs": [],
   "source": [
    "def variance(X):     # Number of observations\n",
    "    n = len(X)       # Mean of the data\n",
    "    mean = np.sum(X) / n  # Square deviations\n",
    "    deviations = [(x - mean) ** 2 for x in X]   # Variance\n",
    "    variance = sum(deviations) / n\n",
    "    return variance"
   ]
  },
  {
   "cell_type": "markdown",
   "id": "f56cc5ed",
   "metadata": {},
   "source": [
    "7.Найти дисперсию (variance) данногоВР двумя способами:С помощью функции\n",
    "D = np.var(X)"
   ]
  },
  {
   "cell_type": "code",
   "execution_count": 7,
   "id": "debd370e",
   "metadata": {},
   "outputs": [],
   "source": [
    "def calc_Expectation(X):      # variable prb is for probability\n",
    "                              # of each element which is same for\n",
    "                              # each element\n",
    "    n = len(X)\n",
    "    prb = 1 / n               # calculating expectation overall\n",
    "    sum = 0\n",
    "    for i in range(0, n):\n",
    "        sum += (X[i] * prb)   # returning expectation as sum\n",
    "    return float(sum)"
   ]
  },
  {
   "cell_type": "markdown",
   "id": "bb8ce9d3",
   "metadata": {},
   "source": [
    "8.Найти асимметрию ВР по формуле (2.9).Найти в Pythonфункцию, которая считает ту же самую характеристику, искать по ключевому слову Skew. Сравнить полученные результаты расчетов."
   ]
  },
  {
   "cell_type": "code",
   "execution_count": 8,
   "id": "8a525fc2",
   "metadata": {},
   "outputs": [
    {
     "name": "stdout",
     "output_type": "stream",
     "text": [
      "-0.0012322103113188902 using np.mean(X)\n"
     ]
    }
   ],
   "source": [
    "def my_fullfunction(X):\n",
    "    t = np.linspace(3, 5, num=len(X))\n",
    "    print(X)\n",
    "M = np.mean(X)\n",
    "print(M, \"using np.mean(X)\")   # Function to calculate expectation"
   ]
  },
  {
   "cell_type": "markdown",
   "id": "2bc0669d",
   "metadata": {},
   "source": [
    "9.Найти  эксцесс  ВР  по  формуле  (2.10).Найти  в Pythonфункцию, которая считает ту же самую характеристику, искать по ключевому словуKurtosis.Для нее использовать параметр fisher= False.Сравнить полученные результаты расчетов.\n"
   ]
  },
  {
   "cell_type": "code",
   "execution_count": 9,
   "id": "edf315c3",
   "metadata": {},
   "outputs": [
    {
     "name": "stdout",
     "output_type": "stream",
     "text": [
      "-0.0012322103113188696 using loops\n",
      "-0.0012322103113188902 without loops\n"
     ]
    }
   ],
   "source": [
    "n = len(X)                    # Function for calculating expectation\n",
    "expect = calc_Expectation(X)  # Display expectation of given array\n",
    "print(expect, \"using loops\")  # don't use  loops\n",
    "M2 = np.sum(X) / n\n",
    "print(M2, \"without loops\")"
   ]
  },
  {
   "cell_type": "markdown",
   "id": "709f403b",
   "metadata": {},
   "source": [
    "10.остроить оценку выборочной автокорреляции ВР несколькимиспособами(до 20 лага)и построить ее на графике:С помощью функции plot_acf(X[0:20])"
   ]
  },
  {
   "cell_type": "code",
   "execution_count": 10,
   "id": "5a588444",
   "metadata": {},
   "outputs": [
    {
     "name": "stdout",
     "output_type": "stream",
     "text": [
      "1.0055561484782287 dvariancein using np.var(X)\n",
      "1.005556148478222\n",
      "skewness of normal distribution (should be 0): 0.01126249813778538\n",
      "excess kurtosis of normal distribution (should be 0): 0.07199771726633442\n"
     ]
    },
    {
     "data": {
      "image/png": "[encoded data removed]",
      "text/plain": [
       "<Figure size 432x288 with 1 Axes>"
      ]
     },
     "metadata": {
      "needs_background": "light"
     },
     "output_type": "display_data"
    },
    {
     "data": {
      "image/png": "[encoded data removed]",
      "text/plain": [
       "<Figure size 432x288 with 1 Axes>"
      ]
     },
     "metadata": {
      "needs_background": "light"
     },
     "output_type": "display_data"
    }
   ],
   "source": [
    "D = np.var(X)\n",
    "print(D, \"dvariancein using np.var(X)\")\n",
    "print(variance(X))\n",
    "from scipy.stats import kurtosis, skew\n",
    "SX = skew(X)\n",
    "print('skewness of normal distribution (should be 0): {}'.format(SX))\n",
    "KX = kurtosis(X)\n",
    "print('excess kurtosis of normal distribution (should be 0): {}'.format(KX))\n",
    "plot_acf(X[0:10])\n",
    "plot_acf(X)\n",
    "np.correlate(X, X, mode='full')\n",
    "plt.show()"
   ]
  },
  {
   "cell_type": "markdown",
   "id": "d31f0aed",
   "metadata": {},
   "source": [
    "11.Написать полную функцию,  которая  имеет один  входной параметр–это исходныйвременнойряддля анализа.Функция  должна  выполнять  всевышеперечисленныеперечисленные действия (кроме 1 пункта, конечно же) для того ВР, что был передан ей в  качестве  параметра.То  есть  вычислять  мат.  ожидание,  дисперсию, асимметрию, эксцесс и строить АКФ.\n",
    "12.Получить  у  преподавателя mat-файлы,  содержащие  массивы некоторых  ВР, по  вариантам.  Номер  варианта  определяется  по последним двум цифрам студенческого билета.\n",
    "13.Загрузить  из  этих mat-файлов  массив  ВР.  Например,  для  12-го варианта:\n",
    "Xmat= h5py.File('12.mat', 'r') \n",
    "Xmat = Xmat.get('z12') \n",
    "Xmat = np.array(Xmat)\n",
    "Xmat.ravel()\n",
    "Используем десятый файл."
   ]
  },
  {
   "cell_type": "code",
   "execution_count": 1,
   "id": "6ee26158",
   "metadata": {},
   "outputs": [
    {
     "ename": "FileNotFoundError",
     "evalue": "[Errno 2] Unable to open file (unable to open file: name = '10.mat', errno = 2, error message = 'No such file or directory', flags = 0, o_flags = 0)",
     "output_type": "error",
     "traceback": [
      "\u001b[1;31m---------------------------------------------------------------------------\u001b[0m",
      "\u001b[1;31mFileNotFoundError\u001b[0m                         Traceback (most recent call last)",
      "\u001b[1;32mC:\\Users\\ACERNI~1\\AppData\\Local\\Temp/ipykernel_3172/2895889564.py\u001b[0m in \u001b[0;36m<module>\u001b[1;34m\u001b[0m\n\u001b[0;32m     44\u001b[0m     \u001b[1;32mreturn\u001b[0m \u001b[1;36m0\u001b[0m\u001b[1;33m\u001b[0m\u001b[1;33m\u001b[0m\u001b[0m\n\u001b[0;32m     45\u001b[0m \u001b[0mX\u001b[0m \u001b[1;33m=\u001b[0m \u001b[0mnp\u001b[0m\u001b[1;33m.\u001b[0m\u001b[0mrandom\u001b[0m\u001b[1;33m.\u001b[0m\u001b[0mrandn\u001b[0m\u001b[1;33m(\u001b[0m\u001b[1;36m10000\u001b[0m\u001b[1;33m)\u001b[0m\u001b[1;33m\u001b[0m\u001b[1;33m\u001b[0m\u001b[0m\n\u001b[1;32m---> 46\u001b[1;33m \u001b[0mdata\u001b[0m \u001b[1;33m=\u001b[0m \u001b[0mh5py\u001b[0m\u001b[1;33m.\u001b[0m\u001b[0mFile\u001b[0m\u001b[1;33m(\u001b[0m\u001b[1;34m'10.mat'\u001b[0m\u001b[1;33m,\u001b[0m \u001b[1;34m'r'\u001b[0m\u001b[1;33m)\u001b[0m\u001b[1;33m\u001b[0m\u001b[1;33m\u001b[0m\u001b[0m\n\u001b[0m\u001b[0;32m     47\u001b[0m \u001b[0mXmat\u001b[0m \u001b[1;33m=\u001b[0m \u001b[0mXmat\u001b[0m\u001b[1;33m.\u001b[0m\u001b[0mget\u001b[0m\u001b[1;33m(\u001b[0m\u001b[1;34m'z10'\u001b[0m\u001b[1;33m)\u001b[0m\u001b[1;33m\u001b[0m\u001b[1;33m\u001b[0m\u001b[0m\n\u001b[0;32m     48\u001b[0m \u001b[0mXmat\u001b[0m \u001b[1;33m=\u001b[0m \u001b[0mnp\u001b[0m\u001b[1;33m.\u001b[0m\u001b[0marray\u001b[0m\u001b[1;33m(\u001b[0m\u001b[0mXmat\u001b[0m\u001b[1;33m)\u001b[0m\u001b[1;33m\u001b[0m\u001b[1;33m\u001b[0m\u001b[0m\n",
      "\u001b[1;32m~\\anaconda3\\lib\\site-packages\\h5py\\_hl\\files.py\u001b[0m in \u001b[0;36m__init__\u001b[1;34m(self, name, mode, driver, libver, userblock_size, swmr, rdcc_nslots, rdcc_nbytes, rdcc_w0, track_order, fs_strategy, fs_persist, fs_threshold, **kwds)\u001b[0m\n\u001b[0;32m    440\u001b[0m             \u001b[1;32mwith\u001b[0m \u001b[0mphil\u001b[0m\u001b[1;33m:\u001b[0m\u001b[1;33m\u001b[0m\u001b[1;33m\u001b[0m\u001b[0m\n\u001b[0;32m    441\u001b[0m                 \u001b[0mfapl\u001b[0m \u001b[1;33m=\u001b[0m \u001b[0mmake_fapl\u001b[0m\u001b[1;33m(\u001b[0m\u001b[0mdriver\u001b[0m\u001b[1;33m,\u001b[0m \u001b[0mlibver\u001b[0m\u001b[1;33m,\u001b[0m \u001b[0mrdcc_nslots\u001b[0m\u001b[1;33m,\u001b[0m \u001b[0mrdcc_nbytes\u001b[0m\u001b[1;33m,\u001b[0m \u001b[0mrdcc_w0\u001b[0m\u001b[1;33m,\u001b[0m \u001b[1;33m**\u001b[0m\u001b[0mkwds\u001b[0m\u001b[1;33m)\u001b[0m\u001b[1;33m\u001b[0m\u001b[1;33m\u001b[0m\u001b[0m\n\u001b[1;32m--> 442\u001b[1;33m                 fid = make_fid(name, mode, userblock_size,\n\u001b[0m\u001b[0;32m    443\u001b[0m                                fapl, fcpl=make_fcpl(track_order=track_order, fs_strategy=fs_strategy,\n\u001b[0;32m    444\u001b[0m                                fs_persist=fs_persist, fs_threshold=fs_threshold),\n",
      "\u001b[1;32m~\\anaconda3\\lib\\site-packages\\h5py\\_hl\\files.py\u001b[0m in \u001b[0;36mmake_fid\u001b[1;34m(name, mode, userblock_size, fapl, fcpl, swmr)\u001b[0m\n\u001b[0;32m    193\u001b[0m         \u001b[1;32mif\u001b[0m \u001b[0mswmr\u001b[0m \u001b[1;32mand\u001b[0m \u001b[0mswmr_support\u001b[0m\u001b[1;33m:\u001b[0m\u001b[1;33m\u001b[0m\u001b[1;33m\u001b[0m\u001b[0m\n\u001b[0;32m    194\u001b[0m             \u001b[0mflags\u001b[0m \u001b[1;33m|=\u001b[0m \u001b[0mh5f\u001b[0m\u001b[1;33m.\u001b[0m\u001b[0mACC_SWMR_READ\u001b[0m\u001b[1;33m\u001b[0m\u001b[1;33m\u001b[0m\u001b[0m\n\u001b[1;32m--> 195\u001b[1;33m         \u001b[0mfid\u001b[0m \u001b[1;33m=\u001b[0m \u001b[0mh5f\u001b[0m\u001b[1;33m.\u001b[0m\u001b[0mopen\u001b[0m\u001b[1;33m(\u001b[0m\u001b[0mname\u001b[0m\u001b[1;33m,\u001b[0m \u001b[0mflags\u001b[0m\u001b[1;33m,\u001b[0m \u001b[0mfapl\u001b[0m\u001b[1;33m=\u001b[0m\u001b[0mfapl\u001b[0m\u001b[1;33m)\u001b[0m\u001b[1;33m\u001b[0m\u001b[1;33m\u001b[0m\u001b[0m\n\u001b[0m\u001b[0;32m    196\u001b[0m     \u001b[1;32melif\u001b[0m \u001b[0mmode\u001b[0m \u001b[1;33m==\u001b[0m \u001b[1;34m'r+'\u001b[0m\u001b[1;33m:\u001b[0m\u001b[1;33m\u001b[0m\u001b[1;33m\u001b[0m\u001b[0m\n\u001b[0;32m    197\u001b[0m         \u001b[0mfid\u001b[0m \u001b[1;33m=\u001b[0m \u001b[0mh5f\u001b[0m\u001b[1;33m.\u001b[0m\u001b[0mopen\u001b[0m\u001b[1;33m(\u001b[0m\u001b[0mname\u001b[0m\u001b[1;33m,\u001b[0m \u001b[0mh5f\u001b[0m\u001b[1;33m.\u001b[0m\u001b[0mACC_RDWR\u001b[0m\u001b[1;33m,\u001b[0m \u001b[0mfapl\u001b[0m\u001b[1;33m=\u001b[0m\u001b[0mfapl\u001b[0m\u001b[1;33m)\u001b[0m\u001b[1;33m\u001b[0m\u001b[1;33m\u001b[0m\u001b[0m\n",
      "\u001b[1;32mh5py\\_objects.pyx\u001b[0m in \u001b[0;36mh5py._objects.with_phil.wrapper\u001b[1;34m()\u001b[0m\n",
      "\u001b[1;32mh5py\\_objects.pyx\u001b[0m in \u001b[0;36mh5py._objects.with_phil.wrapper\u001b[1;34m()\u001b[0m\n",
      "\u001b[1;32mh5py\\h5f.pyx\u001b[0m in \u001b[0;36mh5py.h5f.open\u001b[1;34m()\u001b[0m\n",
      "\u001b[1;31mFileNotFoundError\u001b[0m: [Errno 2] Unable to open file (unable to open file: name = '10.mat', errno = 2, error message = 'No such file or directory', flags = 0, o_flags = 0)"
     ]
    }
   ],
   "source": [
    "#%matplotlib inline\n",
    "import numpy as np\n",
    "import h5py\n",
    "def variance(X):\n",
    "    n = len(X)\n",
    "    mean = np.sum(X) / n                                                                          \n",
    "    deviations = [(x - mean) ** 2 for x in X]\n",
    "    variance = sum(deviations) / n\n",
    "    return variance\n",
    "def calc_Expectation(X):\n",
    "    n = len(X)\n",
    "    prb = 1 / n\n",
    "    sum = 0\n",
    "    for i in range(0, n):\n",
    "        sum += (X[i] * prb)\n",
    "    return float(sum)\n",
    "def f(X):\n",
    "    t = np.linspace(3, 5, num=len(X))\n",
    "    plt.figure(figsize=(10, 5))\n",
    "    plt.plot(t, X)\n",
    "    plt.show()\n",
    "    print(t)\n",
    "    print(X)\n",
    "    M = np.mean(X)\n",
    "    print(M, \"using np.mean(X)\")\n",
    "    n = len(X)\n",
    "    expect = calc_Expectation(X)\n",
    "    print(expect, \"using loops\")\n",
    "    M2 = np.sum(X) / n\n",
    "    print(M2, \"without loops\")\n",
    "    D = np.var(X)\n",
    "    print(D, \"dvariancein using np.var(X)\")\n",
    "    print(variance(X))\n",
    "    from scipy.stats import kurtosis, skew\n",
    "    SX = skew(X)\n",
    "    print('skewness of normal distribution (should be 0): {}'.format(SX))\n",
    "    KX = kurtosis(X)\n",
    "    print('excess kurtosis of normal distribution (should be 0): {}'.format(KX))\n",
    "    plot_acf(X[0:10])\n",
    "    plot_acf(X)\n",
    "    #np.correlate(X, X, mode='full')\n",
    "    plt.show()\n",
    "\n",
    "    return 0\n",
    "X = np.random.randn(10000)\n",
    "data = h5py.File('10.mat', 'r')\n",
    "Xmat = Xmat.get('z10')\n",
    "Xmat = np.array(Xmat)\n",
    "Xmat.ravel()\n",
    "f(Xmat)"
   ]
  },
  {
   "cell_type": "code",
   "execution_count": null,
   "id": "4d73ea89",
   "metadata": {},
   "outputs": [],
   "source": []
  }
 ],
 "metadata": {
  "kernelspec": {
   "display_name": "Python 3 (ipykernel)",
   "language": "python",
   "name": "python3"
  },
  "language_info": {
   "codemirror_mode": {
    "name": "ipython",
    "version": 3
   },
   "file_extension": ".py",
   "mimetype": "text/x-python",
   "name": "python",
   "nbconvert_exporter": "python",
   "pygments_lexer": "ipython3",
   "version": "3.9.7"
  }
 },
 "nbformat": 4,
 "nbformat_minor": 5
}
